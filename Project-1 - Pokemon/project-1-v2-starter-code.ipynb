{
 "cells": [
  {
   "cell_type": "markdown",
   "metadata": {},
   "source": [
    "<img src=\"http://imgur.com/1ZcRyrc.png\" style=\"float: left; margin: 15px; height: 80px\">\n",
    "\n",
    "# Project 1\n",
    "\n",
    "### Building \"Pokemon Stay\"\n",
    "\n",
    "---\n",
    "You are an analyst at a \"scrappy\" online gaming company that specializes in remakes of last year's fads.\n",
    "\n",
    "Your boss, who runs the product development team, is convinced that Pokemon Go's fatal flaw was that you had to actually move around outside. She has design mock-ups for a new game called Pokemon Stay: in this version players still need to move, but just from website to website. Pokemon gyms are now popular online destinations, and catching Pokemon in the \"wild\" simply requires browsing the internet for hours in the comfort of your home.\n",
    "\n",
    "She wants you to program a prototype version of the game, and analyze the planned content to help the team calibrate the design."
   ]
  },
  {
   "cell_type": "markdown",
   "metadata": {},
   "source": [
    "#### Package imports\n",
    "\n",
    "The pprint package below is the only package imported here, and it's not even strictly required to do any of the project. Printing python variables and objects with pprint can help to format them in a \"prettier\" way."
   ]
  },
  {
   "cell_type": "code",
   "execution_count": 1,
   "metadata": {},
   "outputs": [],
   "source": [
    "from pprint import pprint"
   ]
  },
  {
   "cell_type": "markdown",
   "metadata": {},
   "source": [
    "<img src=\"http://imgur.com/l5NasQj.png\" style=\"float: left; margin: 25px 15px 0px 0px; height: 25px\">\n",
    "\n",
    "## 1. Defining a player\n",
    "\n",
    "---\n",
    "\n",
    "The player variables are:\n",
    "\n",
    "    player_id : id code unique to each player (integer)\n",
    "    player_name : entered name of the player (string)\n",
    "    time_played : number of time played the game in minutes (float)\n",
    "    player_pokemon: the player's captured pokemon (dictionary)\n",
    "    gyms_visited: ids of the gyms that a player has visited (list)\n",
    "    \n",
    "Create the components for a player object by defining each of these variables. The dictionary and list variables should just be defined as empty; you can use any (correctly typed) values for the others."
   ]
  },
  {
   "cell_type": "code",
   "execution_count": 2,
   "metadata": {},
   "outputs": [],
   "source": [
    "# define default variable values for Player 1\n",
    "player_id = 1\n",
    "player_name = (\"Tom\")\n",
    "time_played = 20.00\n",
    "player_pokemon = {}\n",
    "gyms_visited = []"
   ]
  },
  {
   "cell_type": "markdown",
   "metadata": {},
   "source": [
    "<img src=\"http://imgur.com/l5NasQj.png\" style=\"float: left; margin: 25px 15px 0px 0px; height: 25px\">\n",
    "\n",
    "## 2. Defining \"gym\" locations\n",
    "\n",
    "---\n",
    "\n",
    "As the sole programmer, Pokemon Stay will have to start small. To begin, there will be 10 different gym location websites on the internet. The gym locations are:\n",
    "\n",
    "    1. 'reddit.com'\n",
    "    2. 'amazon.com'\n",
    "    3. 'twitter.com'\n",
    "    4. 'linkedin.com'\n",
    "    5. 'ebay.com'\n",
    "    6. 'netflix.com'\n",
    "    7. 'amazon.com'\n",
    "    8. 'stackoverflow.com'\n",
    "    9. 'github.com'\n",
    "    10. 'quora.com'\n",
    "\n",
    "1. Set up a list of all the gym locations. This will be a list of strings.\n",
    "2. Append two of these locations to your player's list of visited gyms.\n",
    "3. Print the list."
   ]
  },
  {
   "cell_type": "code",
   "execution_count": 3,
   "metadata": {},
   "outputs": [
    {
     "name": "stdout",
     "output_type": "stream",
     "text": [
      "['reddit.com', 'amazon.com', 'twitter.com', 'linkedin.com', 'ebay.com', 'netflix.com', 'stackoverflow.com', 'github.com', 'quora.com', 'alcatraz']\n",
      "['reddit.com', 'github.com']\n"
     ]
    }
   ],
   "source": [
    "# Create a List of Gym Locations from given information\n",
    "gym_locations = [\n",
    "    'reddit.com',\n",
    "    'amazon.com',\n",
    "    'twitter.com',\n",
    "    'linkedin.com',\n",
    "    'ebay.com',\n",
    "    'netflix.com',\n",
    "    'stackoverflow.com',\n",
    "    'github.com',\n",
    "    'quora.com',\n",
    "    'alcatraz']    \n",
    "\n",
    "# Visited Gym locations list\n",
    "gyms_visited = [\n",
    "    'reddit.com',\n",
    "    'github.com']\n",
    "\n",
    "print (gym_locations)\n",
    "print (gyms_visited)"
   ]
  },
  {
   "cell_type": "markdown",
   "metadata": {},
   "source": [
    "<img src=\"http://imgur.com/l5NasQj.png\" style=\"float: left; margin: 25px 15px 0px 0px; height: 25px\">\n",
    "\n",
    "## 3. Create a pokedex\n",
    "\n",
    "---\n",
    "\n",
    "We also need to create some pokemon to catch. Each pokemon will be defined by these variables:\n",
    "\n",
    "    pokemon_id : unique identifier for each pokemon (integer)\n",
    "    name : the name of the pokemon (string)\n",
    "    type : the category of pokemon (string)\n",
    "    hp : base hitpoints (integer)\n",
    "    attack : base attack (integer)\n",
    "    defense : base defense (integer)\n",
    "    special_attack : base special attack (integer)\n",
    "    special_defense : base sepecial defense (integer)\n",
    "    speed : base speed (integer)\n",
    "\n",
    "We are only going to create 3 different pokemon with these `pokemon_id` and `pokemon_name` values:\n",
    "\n",
    "    1 : 'charmander'\n",
    "    2 : 'squirtle'\n",
    "    3 : 'bulbasaur'\n",
    "\n",
    "Create a dictionary that will contain the pokemon. The keys of the dictionary will be the `pokemon_id` and the values will themselves dictionaries that contain the other pokemon variables. The structure of the pokedex dictionary will start like so:\n",
    "     \n",
    "     {\n",
    "         1: {\n",
    "                 'name':'charmander',\n",
    "                 'type':'fire',\n",
    "                 ...\n",
    "                 \n",
    "The `type` of charmander, squirtle, and bulbasaur should be `'fire'`, `'water'`, and `'poison'` respectively. The other values are up to you, make them anything you like!\n",
    "\n",
    "Print (or pretty print) the pokedex dictionary with the 3 pokemon."
   ]
  },
  {
   "cell_type": "code",
   "execution_count": 4,
   "metadata": {},
   "outputs": [
    {
     "name": "stdout",
     "output_type": "stream",
     "text": [
      "{1: {'attack': 8,\n",
      "     'defense': 5,\n",
      "     'hp': 3,\n",
      "     'name': 'charmander',\n",
      "     'special_attack': 3,\n",
      "     'special_defense': 4,\n",
      "     'speed': 60,\n",
      "     'type': 'fire'},\n",
      " 2: {'attack': 9,\n",
      "     'defense': 6,\n",
      "     'hp': 4,\n",
      "     'name': 'squirtle',\n",
      "     'special_attack': 4,\n",
      "     'special_defense': 4,\n",
      "     'speed': 70,\n",
      "     'type': 'water'},\n",
      " 3: {'attack': 13,\n",
      "     'defense': 10,\n",
      "     'hp': 6,\n",
      "     'name': 'bulbasau',\n",
      "     'special_attack': 8,\n",
      "     'special_defense': 8,\n",
      "     'speed': 90,\n",
      "     'type': 'poison'}}\n"
     ]
    }
   ],
   "source": [
    "# Build Pokedex Dictionary to hold Pokemon\n",
    "pokedex = {\n",
    "    1: {'name':'charmander',   \n",
    "        'type':'fire',          \n",
    "        'hp': 3,                \n",
    "        'attack': 8,            \n",
    "        'defense': 5,          \n",
    "        'special_attack': 3,    \n",
    "        'special_defense': 4,  \n",
    "        'speed': 60},          \n",
    "    2: {'name':'squirtle',\n",
    "        'type':'water',\n",
    "        'hp': 4,\n",
    "        'attack': 9,\n",
    "        'defense': 6,\n",
    "        'special_attack': 4,\n",
    "        'special_defense': 4,\n",
    "        'speed': 70},\n",
    "    3: {'name':'bulbasau',\n",
    "        'type':'poison',\n",
    "        'hp': 6,\n",
    "        'attack': 13,\n",
    "        'defense': 10,\n",
    "        'special_attack': 8,\n",
    "        'special_defense': 8,\n",
    "        'speed': 90}       \n",
    "       }\n",
    "\n",
    "# Print the dictionaries using pprint\n",
    "pprint (pokedex)"
   ]
  },
  {
   "cell_type": "markdown",
   "metadata": {},
   "source": [
    "<img src=\"http://imgur.com/l5NasQj.png\" style=\"float: left; margin: 25px 15px 0px 0px; height: 25px\">\n",
    "\n",
    "## 4. Create a data structure for players\n",
    "\n",
    "---\n",
    "\n",
    "### 4.1 \n",
    "\n",
    "In order to maintain a database of multiple players, create a dictionary that keeps track of players indexed by `player_id`. \n",
    "\n",
    "The keys of the dictionary will be `player_id` and values will be dictionaries containing each player's variables (from question 1). \n",
    "\n",
    "Construct the `players` dictionary and insert the player that you defined in question 1, then print `players`."
   ]
  },
  {
   "cell_type": "markdown",
   "metadata": {},
   "source": [
    "### Load player 1 values to players dictionary\n",
    "- Initialise the dictionary\n",
    "- Move value variables to specific player keys into a player info hold dictionary\n",
    "- Load player information to the player dictionary\n",
    "- Pprint players dictionary, the dictionary has on 2 records but if there are many then do a range"
   ]
  },
  {
   "cell_type": "code",
   "execution_count": 5,
   "metadata": {},
   "outputs": [
    {
     "name": "stdout",
     "output_type": "stream",
     "text": [
      "{1: {'gyms_visited': ['reddit.com', 'github.com'],\n",
      "     'player_id': 1,\n",
      "     'player_name': 'Tom',\n",
      "     'player_pokemon': {},\n",
      "     'time_played': 20.0}}\n"
     ]
    }
   ],
   "source": [
    "# Upload player from values in player_info to the Dictionary\n",
    "players = {}                                      # Create an empty Dictionary to upload players\n",
    "player_info = {'player_id':      player_id,\n",
    "               'player_name':    player_name,\n",
    "               'time_played':    time_played,\n",
    "               'player_pokemon': player_pokemon,\n",
    "               'gyms_visited':   gyms_visited}\n",
    "\n",
    "players[player_info['player_id']] = player_info   # Create a dictionary entry of players details from players_info\n",
    "\n",
    "pprint (players)                                  # Print the player dictioanry"
   ]
  },
  {
   "cell_type": "markdown",
   "metadata": {},
   "source": [
    "---\n",
    "\n",
    "### 4.2\n",
    "\n",
    "Create a new player with `player_id = 2` in the `players` dictionary. Leave the `'player_pokemon'` dictionary empty. Append `'alcatraz'` and `'pacific_beach'` to the `'gyms_visited'` list for player 2.\n",
    "\n",
    "The `'player_name'` and `'time_played'` values are up to you, but must be a string and float, respectively.\n",
    "\n",
    "Remember, the player_id is the key for the player in the players dictionary.\n",
    "\n",
    "Print the `players` dictionary with the new player inserted."
   ]
  },
  {
   "cell_type": "markdown",
   "metadata": {},
   "source": [
    "### Load player 2 values to players dictionary\n",
    "- Define default player 2 values \n",
    "- Build the list of gyms visited by player 2 <br>\n",
    "<font color=blue>\n",
    "    1. Initialise the holding list <br>\n",
    "    2. Build the list of gyms visited by player 2\n",
    "</font>\n",
    "- Move value variables to specific player keys into a player info hold dictionary\n",
    "- Load player information to the player dictionary\n",
    "- Pprint players dictionary, the dictionary has on 2 records but if there are many then do a range"
   ]
  },
  {
   "cell_type": "code",
   "execution_count": 6,
   "metadata": {},
   "outputs": [
    {
     "name": "stdout",
     "output_type": "stream",
     "text": [
      "{1: {'gyms_visited': ['reddit.com', 'github.com'],\n",
      "     'player_id': 1,\n",
      "     'player_name': 'Tom',\n",
      "     'player_pokemon': {},\n",
      "     'time_played': 20.0},\n",
      " 2: {'gyms_visited': ['alcatraz', 'pacific_beach'],\n",
      "     'player_id': 2,\n",
      "     'player_name': 'John',\n",
      "     'player_pokemon': {},\n",
      "     'time_played': 10.0}}\n"
     ]
    }
   ],
   "source": [
    "# define default variable values for Player 2\n",
    "player_id = 2\n",
    "player_name = (\"John\")\n",
    "time_played = 10.00\n",
    "player_pokemon = {}\n",
    "gyms_visited = []\n",
    "\n",
    "# Build the list of gyms visited by player 2\n",
    "gyms_visited = []\n",
    "gyms_visited.append('alcatraz')\n",
    "gyms_visited.append('pacific_beach')\n",
    "\n",
    "# Upload player from values in player_info to the Dictionary\n",
    "player_info = {'player_id':      player_id,\n",
    "               'player_name':    player_name,\n",
    "               'time_played':    time_played,\n",
    "               'player_pokemon': player_pokemon,\n",
    "               'gyms_visited':   gyms_visited}\n",
    "\n",
    "players[player_info['player_id']] = player_info   # Create a dictionary entry of players details from players_info\n",
    "\n",
    "pprint (players)                                  # Print the player dictioanry"
   ]
  },
  {
   "cell_type": "markdown",
   "metadata": {},
   "source": [
    "<img src=\"http://imgur.com/l5NasQj.png\" style=\"float: left; margin: 25px 15px 0px 0px; height: 25px\">\n",
    "\n",
    "## 5. Add captured pokemon for each player\n",
    "\n",
    "---\n",
    "\n",
    "The `'player_pokemon'` keyed dictionaries for each player keep track of which of the pokemon each player has.\n",
    "\n",
    "The keys of the `'player_pokemon'` dictionaries are the pokemon ids that correspond to the ids in the `pokedex` dictionary you created earlier. The values are integers specifying the stats for the pokemon.\n",
    "\n",
    "Give player 1 a squirtle. Give player 2 charmander and a bulbasaur.\n",
    "\n",
    "Print the players dictionary after adding the pokemon for each player.\n",
    "\n",
    "### Define function player_pokemons \n",
    "The function `player_pokemons` will accept an argument `pokemons_assigned` which will have the list of pokemon of pokemons to be assigned to the player"
   ]
  },
  {
   "cell_type": "code",
   "execution_count": 7,
   "metadata": {},
   "outputs": [],
   "source": [
    "# This function accepts an argument of assigned pokemons to players\n",
    "def player_pokemons(pokemons_assigned):\n",
    "    for item in pokemons_assigned:\n",
    "        player_pokemon[item] = pokedex[item]\n",
    "        try:\n",
    "            player_pokemon[item] = pokedex[item]\n",
    "        except KeyError:\n",
    "            print ('Key', item, 'Does not Exists')\n",
    "    return player_pokemon"
   ]
  },
  {
   "cell_type": "markdown",
   "metadata": {},
   "source": [
    "### Assigning pokemon to player 1\n",
    " - Create an empty dictionary to store assigned pokemons to players\n",
    " - Assign pokemon 2 to the player_pokemons dictionary to  later assign it to player1\n",
    "   - Assign pokemon 2 `'squirtle'` to player 2"
   ]
  },
  {
   "cell_type": "code",
   "execution_count": 8,
   "metadata": {},
   "outputs": [],
   "source": [
    "# Player 1\n",
    "player_pokemon = {}                     # create an empty dictionary to store assigned pokemons to players\n",
    "pokemons_assigned = [2]                 # Assign pokemon \n",
    "player_pokemons(pokemons_assigned)      # execute the function player_pokemons\n",
    "\n",
    "# Assign pokemon to players\n",
    "players[1]['player_pokemon'] = player_pokemon    # Assign pokemon 2 (squirtle)"
   ]
  },
  {
   "cell_type": "markdown",
   "metadata": {},
   "source": [
    "### Assigning pokemon to player 2\n",
    " - Create an empty dictionary to store assigned pokemons to players\n",
    " - Assign pokemon 2 to the player_pokemons dictionary to  later assign it to player1\n",
    "   - Assign pokemon 1 (charmander) and 3 (bulbasaur) to player 2"
   ]
  },
  {
   "cell_type": "code",
   "execution_count": 9,
   "metadata": {},
   "outputs": [],
   "source": [
    "# Player 2\n",
    "player_pokemon = {}                     # create an empty dictionary to store assigned pokemons to players\n",
    "pokemons_assigned = [1, 3]              # Assign pokemon \n",
    "player_pokemons(pokemons_assigned)      # execute the function player_pokemons\n",
    "\n",
    "# Assign pokemon to players\n",
    "players[2]['player_pokemon'] = player_pokemon    # Assign pokemon 1 (charmander) and 3 (bulbasaur) to player 2"
   ]
  },
  {
   "cell_type": "markdown",
   "metadata": {},
   "source": [
    "### Print players dictionary\n",
    " - Pprint players dictionary"
   ]
  },
  {
   "cell_type": "code",
   "execution_count": 10,
   "metadata": {},
   "outputs": [
    {
     "name": "stdout",
     "output_type": "stream",
     "text": [
      "{1: {'gyms_visited': ['reddit.com', 'github.com'],\n",
      "     'player_id': 1,\n",
      "     'player_name': 'Tom',\n",
      "     'player_pokemon': {2: {'attack': 9,\n",
      "                            'defense': 6,\n",
      "                            'hp': 4,\n",
      "                            'name': 'squirtle',\n",
      "                            'special_attack': 4,\n",
      "                            'special_defense': 4,\n",
      "                            'speed': 70,\n",
      "                            'type': 'water'}},\n",
      "     'time_played': 20.0},\n",
      " 2: {'gyms_visited': ['alcatraz', 'pacific_beach'],\n",
      "     'player_id': 2,\n",
      "     'player_name': 'John',\n",
      "     'player_pokemon': {1: {'attack': 8,\n",
      "                            'defense': 5,\n",
      "                            'hp': 3,\n",
      "                            'name': 'charmander',\n",
      "                            'special_attack': 3,\n",
      "                            'special_defense': 4,\n",
      "                            'speed': 60,\n",
      "                            'type': 'fire'},\n",
      "                        3: {'attack': 13,\n",
      "                            'defense': 10,\n",
      "                            'hp': 6,\n",
      "                            'name': 'bulbasau',\n",
      "                            'special_attack': 8,\n",
      "                            'special_defense': 8,\n",
      "                            'speed': 90,\n",
      "                            'type': 'poison'}},\n",
      "     'time_played': 10.0}}\n"
     ]
    }
   ],
   "source": [
    "# Print ALL players in the dictionary\n",
    "pprint (players)"
   ]
  },
  {
   "cell_type": "markdown",
   "metadata": {},
   "source": [
    "### Find which gyms have been visited and how many times\n",
    " - create a count variable and initialise it to zero (0).\n",
    " - Perform reading thru gym_locations dictionary\n",
    " - For every gym_location read thru players dictionary\n",
    "   - add 1 to the count\n",
    "   - if the player gym_visited equal the current gym location print message\n",
    "- Print number of times count"
   ]
  },
  {
   "cell_type": "code",
   "execution_count": 11,
   "metadata": {},
   "outputs": [
    {
     "name": "stdout",
     "output_type": "stream",
     "text": [
      "Tom has visited reddit.com\n",
      "Tom has visited github.com\n",
      "John has visited alcatraz\n",
      "20\n"
     ]
    }
   ],
   "source": [
    "# Read through the gym location dictionary and find which gyms have been visited by the player\n",
    "count = 0\n",
    "for gym in gym_locations:\n",
    "    for indx,player in list(players.items()):\n",
    "        count += 1\n",
    "        if gym in player['gyms_visited']:\n",
    "            print(players[indx]['player_name'], 'has visited', gym)\n",
    "print (count)"
   ]
  },
  {
   "cell_type": "markdown",
   "metadata": {},
   "source": [
    "<img src=\"http://imgur.com/xDpSobf.png\" style=\"float: left; margin: 25px 15px 0px 0px; height: 25px\">\n",
    "### 6.2\n",
    "\n",
    "How many times did that loop run? If you have N gyms and also N players, how many times would it run as a function of N?\n",
    "\n",
    "Can you think of a more efficient way to accomplish the same thing? \n",
    "\n",
    "(You can write your answer as Markdown text.)\n",
    "\n",
    "<font color=blue>\n",
    "The loop ran for 20 times, for the number of N gyms, N players it would run N*N times. to make it more efficient and accomplish the same result it would be better to use list comprehensions.\n",
    "</font>\n"
   ]
  },
  {
   "cell_type": "code",
   "execution_count": 12,
   "metadata": {},
   "outputs": [
    {
     "data": {
      "text/plain": [
       "['Tom has visited reddit.com',\n",
       " 'Tom has visited github.com',\n",
       " 'John has visited alcatraz']"
      ]
     },
     "execution_count": 12,
     "metadata": {},
     "output_type": "execute_result"
    }
   ],
   "source": [
    "[(players[player]['player_name'] + ' has visited ' + gym)\\\n",
    " for player in players\\\n",
    " for gym in gym_locations if gym in (players[player]['gyms_visited'])]"
   ]
  },
  {
   "cell_type": "markdown",
   "metadata": {},
   "source": [
    "<img src=\"http://imgur.com/l5NasQj.png\" style=\"float: left; margin: 25px 15px 0px 0px; height: 25px\">\n",
    "\n",
    "## 7. Calculate player \"power\".\n",
    "\n",
    "---\n",
    "\n",
    "Define a function that will calculate a player's \"power\". Player power is defined as the sum of the base statistics all of their pokemon.\n",
    "\n",
    "Your function will:\n",
    "\n",
    "1. Accept the `players` dictionary, `pokedex` dictionary, and a player_id as arguments.\n",
    "2. For the specified player_id, look up that player's pokemon and their level(s).\n",
    "3. Find and aggregate the attack and defense values for each of the player's pokemon from the `pokedex` dictionary.\n",
    "4. Print \"[player name]'s power is [player power].\", where the player power is the sum of the base statistics for all of their pokemon.\n",
    "5. Return the player's power value.\n",
    "\n",
    "Print out the pokemon power for each of your players.\n",
    "\n",
    "### Player 'power'\n",
    " - This function accepts three (3) arguments\n",
    "         1.  'players' ----> players dictionary name \n",
    "         2.  'pokedex' ----> pokedex dictionary name\n",
    "         3.  'player_id' --> player number\n",
    " - Function \n",
    "   - Initialise a total_player_power to 0 which will hold the total sum\n",
    "   - First will read thru the players dictionary using player_id and player_pokemon to get the pokemon details\n",
    "   - Accumulate all pokemon powers to player_power\n",
    "   - Print the player name and the player_power for each pokemon\n",
    "   - Accumulate all player_powers to total_player_power\n",
    "   - return total power\n",
    " - Execute function power with three(3) arguments"
   ]
  },
  {
   "cell_type": "code",
   "execution_count": 13,
   "metadata": {},
   "outputs": [
    {
     "name": "stdout",
     "output_type": "stream",
     "text": [
      "John's power is 83\n",
      "John's power is 135\n"
     ]
    },
    {
     "data": {
      "text/plain": [
       "218"
      ]
     },
     "execution_count": 13,
     "metadata": {},
     "output_type": "execute_result"
    }
   ],
   "source": [
    "#This function calculates the power of the player by adding all the attributes\n",
    "def power(players, pokedex, player_id):\n",
    "    total_player_power = 0\n",
    "    for pokemon in (players[player_id]['player_pokemon']):\n",
    "        player_power = pokedex[pokemon]['attack']\\\n",
    "                    + pokedex[pokemon]['defense']\\\n",
    "                    + pokedex[pokemon]['hp']\\\n",
    "                    + pokedex[pokemon]['speed']\\\n",
    "                    + pokedex[pokemon]['special_attack']\\\n",
    "                    + pokedex[pokemon]['special_defense']\n",
    "        print(players[player_id]['player_name'] + \"'s power is \" + str(player_power))\n",
    "        total_player_power += player_power\n",
    "    return total_player_power\n",
    "\n",
    "# Execute the function power by passing the arguments (players dictionary, pokedex dictionary, and a player_id).\n",
    "power(players,pokedex,2)"
   ]
  },
  {
   "cell_type": "markdown",
   "metadata": {
    "collapsed": true
   },
   "source": [
    "<img src=\"http://imgur.com/l5NasQj.png\" style=\"float: left; margin: 25px 15px 0px 0px; height: 25px\">\n",
    "\n",
    "## 8. Load a pokedex file containing all the pokemon\n",
    "\n",
    "---\n",
    "\n",
    "### 8.1\n",
    "\n",
    "While you were putting together the prototype code, your colleagues were preparing a dataset of Pokemon and their attributes. (This was a rush job, so they may have picked some crazy values for some...)\n",
    "\n",
    "The code below loads information from a comma separated value (csv) file. You need to parse this string into a more useable format. The format of the string is:\n",
    "\n",
    "- Rows are separated by newline characters: \\n\n",
    "- Columns are separated by commas: ,\n",
    "- All cells in the csv are double quoted. Ex: \"PokedexNumber\" is the first cell of the first row.\n",
    "\n",
    "\n",
    "Using for-loops, create a list of lists where each list within the overall list is a row of the csv/matrix, and each element in that list is a cell in that row. Additional criteria:\n",
    "\n",
    "1. Quotes are removed from each cell item.\n",
    "2. Numeric column values are converted to floats.\n",
    "3. There are some cells that are empty and have no information. For these cells put a -1 value in place.\n",
    "\n",
    "Your end result is effectively a matrix. Each list in the outer list is a row, and the *j*th elements of list together form the *j*th column, which represents a data attribute. The first three lists in your pokedex list should look like this:\n",
    "\n",
    "    ['PokedexNumber', 'Name', 'Type', 'Total', 'HP', 'Attack', 'Defense', 'SpecialAttack', 'SpecialDefense', 'Speed']\n",
    "    [1.0, 'Bulbasaur', 'GrassPoison', 318.0, 45.0, 49.0, 49.0, 65.0, 65.0, 45.0]\n",
    "    [2.0, 'Ivysaur', 'GrassPoison', 405.0, 60.0, 62.0, 63.0, 80.0, 80.0, 60.0]"
   ]
  },
  {
   "cell_type": "markdown",
   "metadata": {},
   "source": [
    "### Build pokedex data\n",
    " - Open the file using with open method in read mode and assign it to csv_file, also remove line skips('\\n')\n",
    " - From the csv_file \n",
    "    - remove all characters with double quotes ('\"') \n",
    "    - split each item by given comma delimited(','), so each item is it's own entry\n",
    "    - replace blank item where it is nulls replace it with -1\n",
    "    \n",
    "- Execute the float funtion to reaplace numeric to floats \n",
    "- Pprint the first 3 records from the cleaned pokedex file"
   ]
  },
  {
   "cell_type": "code",
   "execution_count": 14,
   "metadata": {},
   "outputs": [],
   "source": [
    "#Read the csv file in read mode and also removing '\\n'\n",
    "with open('pokedex_basic.csv', mode='r') as csv_file:\n",
    "    pokedex_csv = csv_file.read().split('\\n')\n",
    "    \n",
    "# now get rid of all the double quotes\n",
    "for item in range(len(pokedex_csv)):\n",
    "    pokedex_csv[item] = pokedex_csv[item].replace('\"','')   \n",
    "    \n",
    "# now split by the comma so each item is it's own entry\n",
    "for item in range(len(pokedex_csv)):\n",
    "    pokedex_csv[item] = pokedex_csv[item].split(\",\")    \n",
    "    \n",
    "# replace blank cells empty fields to -1\n",
    "for item in range(len(pokedex_csv)):\n",
    "    hold_data = []\n",
    "    for i in (pokedex_csv[item]):\n",
    "        if i == \"\":\n",
    "            i = '-1'\n",
    "        else:\n",
    "            i = i\n",
    "        hold_data.append(i)\n",
    "    (pokedex_csv[item]) = hold_data    "
   ]
  },
  {
   "cell_type": "code",
   "execution_count": 15,
   "metadata": {},
   "outputs": [
    {
     "name": "stdout",
     "output_type": "stream",
     "text": [
      "[['PokedexNumber',\n",
      "  'Name',\n",
      "  'Type',\n",
      "  'Total',\n",
      "  'HP',\n",
      "  'Attack',\n",
      "  'Defense',\n",
      "  'SpecialAttack',\n",
      "  'SpecialDefense',\n",
      "  'Speed'],\n",
      " [1.0, 'Bulbasaur', 'GrassPoison', 318.0, 45.0, 49.0, 49.0, 65.0, 65.0, 45.0],\n",
      " [2.0, 'Ivysaur', 'GrassPoison', 405.0, 60.0, 62.0, 63.0, 80.0, 80.0, 60.0]]\n"
     ]
    }
   ],
   "source": [
    "# Changes the numeric value to a float\n",
    "def float_conv(i):\n",
    "    try:\n",
    "        return float(i)\n",
    "    except ValueError:\n",
    "        return i    \n",
    "    \n",
    "#execute the float funtion to reaplace numeric to floats\n",
    "pokedex_csv = [[float_conv(i) for i in item] for item in pokedex_csv]\n",
    "\n",
    "#execute the float funtion to reaplace numeric to floats\n",
    "pokedex_csv = [[float_conv(i) for i in item] for item in pokedex_csv]\n",
    "\n",
    "# print the first 3 records in the file created\n",
    "pprint (pokedex_csv[0:3])"
   ]
  },
  {
   "cell_type": "markdown",
   "metadata": {},
   "source": [
    "<img src=\"http://imgur.com/xDpSobf.png\" style=\"float: left; margin: 25px 15px 0px 0px; height: 25px\">\n",
    "\n",
    "### 8.2 Parse the raw pokedex with list comprehensions\n",
    "\n",
    "---\n",
    "\n",
    "Perform the same parsing as above, but **using only a single list comprehension** instead of for loops. You may have nested list comprehensions within the main list comprehension! The output should be exactly the same."
   ]
  },
  {
   "cell_type": "code",
   "execution_count": null,
   "metadata": {},
   "outputs": [],
   "source": []
  },
  {
   "cell_type": "markdown",
   "metadata": {},
   "source": [
    "<img src=\"http://imgur.com/l5NasQj.png\" style=\"float: left; margin: 25px 15px 0px 0px; height: 25px\">\n",
    "\n",
    "## 9. Write a function to generate the full pokedex\n",
    "\n",
    "---\n",
    "\n",
    "Write a function that recreates the pokedex you made before, but with the data read in from the full pokemon file. The `PokedexNumber` should be used as the `pokemon_id` key values for the dictionary of pokemon.\n",
    "\n",
    "Your function should:\n",
    "\n",
    "1. Take the parsed pokedex information you created above as an argument.\n",
    "2. Return a dictionary in the same format as your original pokedex you created before containing the information from the parsed full pokedex file.\n",
    "\n",
    "To test the function, print out the pokemon with id = 100."
   ]
  },
  {
   "cell_type": "code",
   "execution_count": 16,
   "metadata": {},
   "outputs": [
    {
     "name": "stdout",
     "output_type": "stream",
     "text": [
      "{'Attack': 35.0,\n",
      " 'Defense': 30.0,\n",
      " 'HP': 30.0,\n",
      " 'Name': 'Gastly',\n",
      " 'PokedexNumber': 92.0,\n",
      " 'SpecialAttack': 100.0,\n",
      " 'SpecialDefense': 35.0,\n",
      " 'Speed': 80.0,\n",
      " 'Total': 310.0,\n",
      " 'Type': 'GhostPoison'}\n"
     ]
    }
   ],
   "source": [
    "# This function builds a new dictionary from the csv file re have modified \n",
    "def generate_full_pokedex(argument):\n",
    "\n",
    "#Extract Header and Record details to variables file_header and file_detail.\n",
    "\n",
    "    file_header = pokedex_csv[0]                #- 1 --> Get header which is the first record in the file\n",
    "    \n",
    "    file_detail = pokedex_csv[1:]               #- 2 --> Extract all records after the header \n",
    "\n",
    "    index = 1                                   #- 3 --> Set or Initialise an index counter to 1\n",
    "\n",
    "    for v in file_detail:\n",
    "        dictionary = dict(zip(file_header, v))  #- 4 --> Append the header to the dictionary\n",
    "        pokedex[index] = dictionary\n",
    "        index = index + 1\n",
    "    return pokedex\n",
    "\n",
    "# Will execute the generate_full_pokedex using the file name passed in the argument\n",
    "full_pokedex = generate_full_pokedex(pokedex_csv) \n",
    "\n",
    "# Print the file \n",
    "pprint(full_pokedex[100])"
   ]
  },
  {
   "cell_type": "markdown",
   "metadata": {},
   "source": [
    "<img src=\"http://i.imgur.com/GCAf1UX.png\" style=\"float: left; margin: 25px 15px 0px 0px; height: 25px\">\n",
    "\n",
    "## 10. Write a function to generate a \"filtered\" pokedex\n",
    "---\n",
    "Your function should:\n",
    "1. Take the parsed pokedex information you created above as an argument.\n",
    "1. Take a dictionary as a parameter with keys matching the features of the Pokedex, filtering by exact match for string type values, and/or filter continuous variables specified value that is greater than or equal to the dictionary key parameter.\n",
    "1. Return multiple elements from the Pokedex\n",
    "\n",
    "Example:\n",
    "\n",
    "```python\n",
    "\n",
    "# Only filter based on parameters passed\n",
    "filter_options = {\n",
    "    'Attack':   25,\n",
    "    'Defense':  30,\n",
    "    'Type':     'Electric'\n",
    "}\n",
    "\n",
    "# Return records with attack >= 24, defense >= 30, and type == \"Electric\"\n",
    "# Also anticipate that other paramters can also be passed such as \"SpecialAttack\", \"Speed\", etc.\n",
    "filtered_pokedex(pokedex_data, filter=filter_options)\n",
    "\n",
    "# Example output:\n",
    "# [{'Attack': 30.0,\n",
    "#  'Defense': 50.0,\n",
    "#  'HP': 40.0,\n",
    "#  'Name': 'Voltorb',\n",
    "#  'SpecialAttack': 55.0,\n",
    "#  'SpecialDefense': 55.0,\n",
    "#  'Speed': 100.0,\n",
    "#  'Total': 330.0,\n",
    "#  'Type': 'Electric'},\n",
    "#  {'Attack': 30.0,\n",
    "#  'Defense': 33.0,\n",
    "#  'HP': 32.0,\n",
    "#  'Name': 'Pikachu',\n",
    "#  'SpecialAttack': 55.0,\n",
    "#  'SpecialDefense': 55.0,\n",
    "#  'Speed': 100.0,\n",
    "#  'Total': 330.0,\n",
    "#  'Type': 'Electric'},\n",
    "#  ... etc\n",
    "#  ]\n",
    "\n",
    "```\n",
    "\n"
   ]
  },
  {
   "cell_type": "code",
   "execution_count": 20,
   "metadata": {},
   "outputs": [],
   "source": [
    "# This function receives an agument of options to filter the file with\n",
    "def filtered_pokedex(pokedex_data, filter_options):\n",
    "    filtered_pokedex = []                                             # Empty list to load filtered file\n",
    "    filter_options_list = list(filter_options.keys())                 # list of keys from filter\n",
    "\n",
    "    for index, value in pokedex_data.items():                         # Read thru the pokedex file and extact index, value\n",
    "        flag = False                                                  # Default flag which will be updated if True or False\n",
    "        for option in filter_options_list:                            # Read thru the option list and extact option\n",
    "            if type(filter_options[option]) is str:                   # Check if option entered value is a string\n",
    "                if (value[option] == filter_options[option]):         # Check if matched and update Flag\n",
    "                    flag = True\n",
    "                else:\n",
    "                    flag = False\n",
    "            else: \n",
    "                if (value[option] >= filter_options[option]):         # Check if value is greater or equal and update Flag\n",
    "                    flag = True\n",
    "                else:\n",
    "                    flag = False\n",
    "        if (flag == True):                                            # if all is True, then append dictionary to list\n",
    "            filtered_pokedex.append(value)\n",
    "    \n",
    "    return filtered_pokedex                                           # Return the new filtered_pokedex"
   ]
  },
  {
   "cell_type": "code",
   "execution_count": 18,
   "metadata": {},
   "outputs": [
    {
     "name": "stdout",
     "output_type": "stream",
     "text": [
      "{'Attack': 63.0,\n",
      " 'Defense': 37.0,\n",
      " 'HP': 45.0,\n",
      " 'Name': 'Elekid',\n",
      " 'PokedexNumber': 239.0,\n",
      " 'SpecialAttack': 65.0,\n",
      " 'SpecialDefense': 55.0,\n",
      " 'Speed': 95.0,\n",
      " 'Total': 360.0,\n",
      " 'Type': 'Electric'}\n"
     ]
    }
   ],
   "source": [
    "# Will execute the filtered_pokedex using the file name and filetering options to be compared\n",
    "filter_options = {'Attack': 24,'Defense': 30,'Type': 'Electric'}      # Create filtering options to be used in the argument\n",
    "filtered_pokedex = filtered_pokedex(full_pokedex, filter_options)     # Execute the function\n",
    "\n",
    "# print 3 records from the new filterd file list\n",
    "pprint(filtered_pokedex[10])"
   ]
  },
  {
   "cell_type": "markdown",
   "metadata": {
    "collapsed": true
   },
   "source": [
    "\n",
    "## 9. Descriptive statistics on the prototype pokedex\n",
    "\n",
    "<img src=\"http://imgur.com/l5NasQj.png\" style=\"float: left; margin: 25px 15px 0px 0px; height: 25px\">\n",
    "### 9.1\n",
    "\n",
    "What is the population mean and standard deviation of the \"Total\" attribute for all characters in the Pokedex?\n",
    "\n"
   ]
  },
  {
   "cell_type": "code",
   "execution_count": 19,
   "metadata": {},
   "outputs": [
    {
     "name": "stdout",
     "output_type": "stream",
     "text": [
      "The population mean of the 'Total':     435.1275\n",
      "The standard deviation of the 'Total':  119.96202000529168\n"
     ]
    }
   ],
   "source": [
    "# Import numpy so we can calculate the Mean and STD\n",
    "import numpy as np\n",
    "\n",
    "pokedex_total = [value['Total'] for key, value in full_pokedex.items()]\n",
    "\n",
    "mean = np.mean(pokedex_total)\n",
    "std = np.std(pokedex_total)\n",
    "\n",
    "print(\"The population mean of the 'Total':    \", mean)\n",
    "print(\"The standard deviation of the 'Total': \", std)"
   ]
  },
  {
   "cell_type": "markdown",
   "metadata": {},
   "source": [
    "<img src=\"http://imgur.com/l5NasQj.png\" style=\"float: left; margin: 25px 15px 0px 0px; height: 25px\">\n",
    "### 9.2\n",
    "\n",
    "The game is no fun if the characters are wildly unbalanced! Are any characters \"overpowered\", which we'll define as having a \"Total\" more than three standard deviations from the population mean?"
   ]
  },
  {
   "cell_type": "code",
   "execution_count": 21,
   "metadata": {},
   "outputs": [],
   "source": [
    "# Execute the function overpowered, with the list file and filtered options as arguments O V E R P O W E R E D\n",
    "\n",
    "overpowered = int(3 * std)                                         # More than 3 std's to be done from the polpulation mean\n",
    "\n",
    "filter_options = {'Total': overpowered}                            # 'Total' and value \n",
    "\n",
    "filtered_pokedex = filtered_pokedex(full_pokedex, filter_options)  #overpowered_characters"
   ]
  },
  {
   "cell_type": "code",
   "execution_count": 22,
   "metadata": {},
   "outputs": [
    {
     "name": "stdout",
     "output_type": "stream",
     "text": [
      "[{'Attack': 62.0,\n",
      "  'Defense': 63.0,\n",
      "  'HP': 60.0,\n",
      "  'Name': 'Ivysaur',\n",
      "  'PokedexNumber': 2.0,\n",
      "  'SpecialAttack': 80.0,\n",
      "  'SpecialDefense': 80.0,\n",
      "  'Speed': 60.0,\n",
      "  'Total': 405.0,\n",
      "  'Type': 'GrassPoison'},\n",
      " {'Attack': 82.0,\n",
      "  'Defense': 83.0,\n",
      "  'HP': 80.0,\n",
      "  'Name': 'Venusaur',\n",
      "  'PokedexNumber': 3.0,\n",
      "  'SpecialAttack': 100.0,\n",
      "  'SpecialDefense': 100.0,\n",
      "  'Speed': 80.0,\n",
      "  'Total': 525.0,\n",
      "  'Type': 'GrassPoison'},\n",
      " {'Attack': 100.0,\n",
      "  'Defense': 123.0,\n",
      "  'HP': 80.0,\n",
      "  'Name': 'VenusaurMega Venusaur',\n",
      "  'PokedexNumber': 3.0,\n",
      "  'SpecialAttack': 122.0,\n",
      "  'SpecialDefense': 120.0,\n",
      "  'Speed': 80.0,\n",
      "  'Total': 625.0,\n",
      "  'Type': 'GrassPoison'}]\n"
     ]
    }
   ],
   "source": [
    "# Print overpowered characters\n",
    "pprint(filtered_pokedex[0:3])"
   ]
  },
  {
   "cell_type": "markdown",
   "metadata": {},
   "source": [
    "<img src=\"http://imgur.com/xDpSobf.png\" style=\"float: left; margin: 25px 15px 0px 0px; height: 25px\">\n",
    "\n",
    "## 10. Calibrate the frequency of Pokemon\n",
    "\n",
    "The design team wants you to make the powerful Pokemon rare, and the weaklings more common. How would you set the probability $p_i$ of finding Pokemon *i* each time a player visits a gym?\n",
    "\n",
    "Write a function that takes in a Pokedex number and returns a value $p_i$ for that character.\n",
    "\n",
    "Hint: there are many ways you could do this. What do _you_ think makes sense? Start with simplifying assumptions: for example, you could assume that the probabilities of encountering any two Pokemon on one visit to a gym are independent of each other."
   ]
  },
  {
   "cell_type": "code",
   "execution_count": null,
   "metadata": {},
   "outputs": [],
   "source": []
  }
 ],
 "metadata": {
  "anaconda-cloud": {},
  "kernelspec": {
   "display_name": "Python 3",
   "language": "python",
   "name": "python3"
  },
  "language_info": {
   "codemirror_mode": {
    "name": "ipython",
    "version": 3
   },
   "file_extension": ".py",
   "mimetype": "text/x-python",
   "name": "python",
   "nbconvert_exporter": "python",
   "pygments_lexer": "ipython3",
   "version": "3.7.0"
  }
 },
 "nbformat": 4,
 "nbformat_minor": 1
}
