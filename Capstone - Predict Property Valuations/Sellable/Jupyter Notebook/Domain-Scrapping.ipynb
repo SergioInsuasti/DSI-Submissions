{
 "cells": [
  {
   "cell_type": "markdown",
   "metadata": {},
   "source": [
    "#  Domain"
   ]
  },
  {
   "cell_type": "markdown",
   "metadata": {},
   "source": [
    "<div class=\"alert alert-block alert-info\">\n",
    "<b>Import all required libraries and folders</b> \n",
    "</div>"
   ]
  },
  {
   "cell_type": "code",
   "execution_count": 1,
   "metadata": {},
   "outputs": [],
   "source": [
    "# P A N D A S and N U M P Y\n",
    "import numpy as np\n",
    "import pandas as pd\n",
    "import pandas_profiling"
   ]
  },
  {
   "cell_type": "markdown",
   "metadata": {},
   "source": [
    "<div class=\"alert alert-block alert-info\">\n",
    "<b>Using Pandas DataFrames</b> \n",
    "<br>&nbsp;&nbsp;&nbsp;&nbsp;&nbsp;&nbsp; 1.&nbsp;&nbsp;&nbsp;Use the .read_csv() function to read the csv file\n",
    "</div>"
   ]
  },
  {
   "cell_type": "code",
   "execution_count": 2,
   "metadata": {},
   "outputs": [],
   "source": [
    "# Load the data\n",
    "\n",
    "df2 = pd.read_csv('./Datasets/df_new_street.csv')\n",
    "df2.drop(['Unnamed: 0'],inplace=True, axis=1)"
   ]
  },
  {
   "cell_type": "markdown",
   "metadata": {},
   "source": [
    "<div class=\"alert alert-block alert-info\">\n",
    "<b>Import all required libraries and folders</b> \n",
    "</div>"
   ]
  },
  {
   "cell_type": "code",
   "execution_count": 3,
   "metadata": {},
   "outputs": [],
   "source": [
    "# Import all required libraries and folders\n",
    "from bs4 import BeautifulSoup                                   # import BeuatifulSoup\n",
    "import urllib.request, urllib.parse, urllib.error\n",
    "\n",
    "from selenium import webdriver                                  # import Selenium WebDriver\n",
    "\n",
    "from time import sleep                                          # import sleep\n",
    "\n",
    "from selenium.webdriver.common.keys import Keys                 # we can send keys as well\n",
    "\n",
    "import pandas as pd                                             # Pandas\n",
    "\n",
    "import re                                                       # Regular Expression"
   ]
  },
  {
   "cell_type": "markdown",
   "metadata": {},
   "source": [
    "<div class=\"alert alert-block alert-info\">\n",
    "<b>PROCESS</b> \n",
    "</div>"
   ]
  },
  {
   "cell_type": "code",
   "execution_count": 4,
   "metadata": {},
   "outputs": [],
   "source": [
    "def process():\n",
    "    start_record_on_file = 0\n",
    "    end_record_selection = 1\n",
    "    count = 0 + start_record_on_file\n",
    "    \n",
    "    for i_d, s in df2.values[start_record_on_file:end_record_selection]:\n",
    "        street = s.casefold()\n",
    "        count +=1\n",
    "        street.lower()\n",
    "        find_house_info(street, int(count), i_d)  "
   ]
  },
  {
   "cell_type": "markdown",
   "metadata": {},
   "source": [
    "<div class=\"alert alert-block alert-info\">\n",
    "<b>Get the House Website</b> \n",
    "</div>"
   ]
  },
  {
   "cell_type": "code",
   "execution_count": 5,
   "metadata": {},
   "outputs": [],
   "source": [
    "def find_house_info(i, count, i_d):\n",
    "    url = driver.get('https://www.domain.com.au/property-profile/' + i)\n",
    "    \n",
    "    dd = ('https://www.domain.com.au/property-profile/' + i)\n",
    "    \n",
    "    print (str(count), '\\t', i_d, '\\t', dd)\n",
    "        \n",
    "    html = driver.page_source                                 # Grab the page source\n",
    "  \n",
    "    html = BeautifulSoup(html, 'lxml')                        # BeautifulSoup it!\n",
    "    \n",
    "    data_value = []\n",
    "    \n",
    "    try:\n",
    "        extract_house_info(html, data_value, i_d)         # Extract information\n",
    "    except:\n",
    "        print ('Not Found\\t', dd)"
   ]
  },
  {
   "cell_type": "markdown",
   "metadata": {},
   "source": [
    "<div class=\"alert alert-block alert-info\">\n",
    "<b>Extract Deatils and CLEAN</b> \n",
    "</div>"
   ]
  },
  {
   "cell_type": "code",
   "execution_count": 6,
   "metadata": {},
   "outputs": [],
   "source": [
    "def extract_house_info(html, data_value, i_d):\n",
    "    data_value.append(i_d)\n",
    "    hold_data = []   \n",
    "    \n",
    "# Valuation\n",
    "    for data in html.find_all('div', {'class':'estimate-card__short-price-display propertyid-details__estimate-range--indicator-middle propertyid-details__estimate-range--indicator-high'}):\n",
    "        data_value.append(str(data.text))\n",
    "#        print (data_value)\n",
    "        break\n",
    "    \n",
    "# Image Link\n",
    "    r_data = []\n",
    "    for data in html.findAll('div',{'class':'propertyid-details__gallery'}):\n",
    "        for image in data('img',{'alt':\"\"}):\n",
    "            new_image = str(image['src'])\n",
    "            data_value.append(new_image)\n",
    "#            print (data_value)\n",
    "            break     \n",
    "    \n",
    "# Blog\n",
    "    for data in html.find_all('p', {'class':'property-story__content-body '}):\n",
    "        data_value.append(str(data.text))\n",
    "#        print (data_value)\n",
    "        break\n",
    "    \n",
    "    hold_data = data_value\n",
    "    datalist.append(hold_data)\n",
    "    return hold_data"
   ]
  },
  {
   "cell_type": "markdown",
   "metadata": {},
   "source": [
    "<div class=\"alert alert-block alert-info\">\n",
    "<b>Initiate connection and Start Processing</b> \n",
    "</div>"
   ]
  },
  {
   "cell_type": "code",
   "execution_count": 8,
   "metadata": {},
   "outputs": [
    {
     "name": "stdout",
     "output_type": "stream",
     "text": [
      "1 \t 4121487 \t https://www.domain.com.au/property-profile/1805-1-boys-avenue-blacktown-nsw-2148\n"
     ]
    }
   ],
   "source": [
    "# open the driver\n",
    "driver = webdriver.Chrome(executable_path=\"chromedriver/chromedriver.exe\")\n",
    "\n",
    "datalist = []                                                                # Create empty list\n",
    "hold_data = ''                                                               # Create empty string\n",
    "\n",
    "process()                                                                    # Exeute PROCESS Module\n",
    "\n",
    "driver.close()                                                               # CLOSE Driver and WebPage, loop has COMPLETED\n",
    "\n",
    "driver.quit()                                                                # END the Selenium browser session\n",
    "\n",
    "# Append Column Names to DataFrame\n",
    "df = pd.DataFrame(datalist, columns = ('id', 'domain_valuation', 'domain_image', 'domain_blog'))\n",
    "df = pd.DataFrame(datalist)\n",
    "\n",
    "# # Create a File with all the information\n",
    "df.to_csv('./Datasets/domain_list.csv')"
   ]
  },
  {
   "cell_type": "code",
   "execution_count": null,
   "metadata": {},
   "outputs": [],
   "source": [
    "df.dtypes\n"
   ]
  },
  {
   "cell_type": "code",
   "execution_count": null,
   "metadata": {},
   "outputs": [],
   "source": [
    "df.head()\n"
   ]
  },
  {
   "cell_type": "code",
   "execution_count": null,
   "metadata": {},
   "outputs": [],
   "source": []
  },
  {
   "cell_type": "code",
   "execution_count": null,
   "metadata": {},
   "outputs": [],
   "source": []
  },
  {
   "cell_type": "code",
   "execution_count": null,
   "metadata": {},
   "outputs": [],
   "source": []
  },
  {
   "cell_type": "code",
   "execution_count": null,
   "metadata": {},
   "outputs": [],
   "source": []
  },
  {
   "cell_type": "code",
   "execution_count": null,
   "metadata": {},
   "outputs": [],
   "source": []
  },
  {
   "cell_type": "code",
   "execution_count": null,
   "metadata": {},
   "outputs": [],
   "source": []
  },
  {
   "cell_type": "code",
   "execution_count": null,
   "metadata": {},
   "outputs": [],
   "source": []
  },
  {
   "cell_type": "code",
   "execution_count": null,
   "metadata": {
    "scrolled": false
   },
   "outputs": [],
   "source": [
    "from bs4 import BeautifulSoup\n",
    "import urllib.request as request\n",
    "    \n",
    "URL = 'https://www.domain.com.au/property-profile/1-kauai-place-kings-park-nsw-2148'\n",
    "response = request.urlopen(URL)\n",
    "soup = BeautifulSoup(response, 'html.parser')\n",
    "#print (soup)\n",
    "iconTable = soup.findAll('picture', {'class': 'media-gallery-image-responsive'})\n",
    "# print (iconTable)\n",
    "\n",
    "# icons = iconTable.find('source')\n",
    "# print (icons)\n",
    "r_data=[]\n",
    "# Image Link\n",
    "for data in iconTable.find_all('div',{'class':'photos-wrapper pull-up'}):\n",
    "    for image in data('img',{'alt':'image description'}):\n",
    "        data_value.append(image['src']) \n",
    "        print (data_value)\n",
    "\n",
    "# for i in iconTable:\n",
    "#     r_data.append(i)\n",
    "# #     r_data = word.split('\\n')\n",
    "\n",
    "# #     print (i.find_all(picture))\n",
    "#     print (r_data[:10])\n",
    "#     print (r_data[:30])\n",
    "    break\n",
    "#     request.urlretrieve(icons.img['src'])"
   ]
  },
  {
   "cell_type": "code",
   "execution_count": null,
   "metadata": {},
   "outputs": [],
   "source": [
    "from bs4 import BeautifulSoup\n",
    "import urllib.request as request\n",
    "    \n",
    "URL = 'https://www.domain.com.au/property-profile/1-kauai-place-kings-park-nsw-2148'\n",
    "response = request.urlopen(URL)\n",
    "soup = BeautifulSoup(response, 'html.parser')\n",
    "#print (soup)\n",
    "iconTable = soup.findAll('div',{'class':'photos-wrapper pull-up'})\n",
    "# print (iconTable)\n",
    "print (iconTable)\n",
    "# icons = iconTable.find('source')\n",
    "# print (icons)\n",
    "r_data=[]\n",
    "# Image Link\n",
    "for image in iconTable('img',{'alt':'image description'}):\n",
    "    data_value.append(image['src']) \n",
    "    print (data_value)\n",
    "\n",
    "# for i in iconTable:\n",
    "#     r_data.append(i)\n",
    "# #     r_data = word.split('\\n')\n",
    "\n",
    "# #     print (i.find_all(picture))\n",
    "    break\n",
    "#     request.urlretrieve(icons.img['src'])"
   ]
  },
  {
   "cell_type": "markdown",
   "metadata": {},
   "source": [
    "<picture class=\"media-gallery-image-responsive\"><source srcset=\"https://bucket-api.domain.com.au/v1/bucket/image/2014391243_1_1_180724_123729-w1920-h1440\"/><img alt=\"\" class=\"media-gallery-image-element\" src=\"https://bucket-api.domain.com.au/v1/bucket/image/2014391243_1_1_180724_123729-w1920-h1440\" title=\"\"/></picture>\n",
    "1\n",
    "​\n"
   ]
  },
  {
   "cell_type": "code",
   "execution_count": null,
   "metadata": {},
   "outputs": [],
   "source": []
  },
  {
   "cell_type": "code",
   "execution_count": null,
   "metadata": {},
   "outputs": [],
   "source": []
  },
  {
   "cell_type": "code",
   "execution_count": null,
   "metadata": {},
   "outputs": [],
   "source": []
  },
  {
   "cell_type": "code",
   "execution_count": null,
   "metadata": {},
   "outputs": [],
   "source": []
  },
  {
   "cell_type": "code",
   "execution_count": null,
   "metadata": {},
   "outputs": [],
   "source": []
  },
  {
   "cell_type": "code",
   "execution_count": null,
   "metadata": {},
   "outputs": [],
   "source": []
  },
  {
   "cell_type": "code",
   "execution_count": null,
   "metadata": {},
   "outputs": [],
   "source": []
  }
 ],
 "metadata": {
  "kernelspec": {
   "display_name": "Python 3",
   "language": "python",
   "name": "python3"
  },
  "language_info": {
   "codemirror_mode": {
    "name": "ipython",
    "version": 3
   },
   "file_extension": ".py",
   "mimetype": "text/x-python",
   "name": "python",
   "nbconvert_exporter": "python",
   "pygments_lexer": "ipython3",
   "version": "3.7.0"
  }
 },
 "nbformat": 4,
 "nbformat_minor": 2
}
