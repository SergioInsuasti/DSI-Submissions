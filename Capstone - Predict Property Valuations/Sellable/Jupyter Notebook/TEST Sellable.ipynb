{
 "cells": [
  {
   "cell_type": "markdown",
   "metadata": {},
   "source": [
    "#  Sellable"
   ]
  },
  {
   "cell_type": "markdown",
   "metadata": {},
   "source": [
    "<div class=\"alert alert-block alert-info\">\n",
    "<b>Import all required libraries and folders</b> \n",
    "</div>"
   ]
  },
  {
   "cell_type": "code",
   "execution_count": 4,
   "metadata": {},
   "outputs": [],
   "source": [
    "# P A N D A S and N U M P Y\n",
    "import numpy as np\n",
    "import pandas as pd\n",
    "import pandas_profiling\n",
    "\n",
    "# Regular Expression\n",
    "import re\n",
    "\n",
    "# Import all required libraries and folders\n",
    "from bs4 import BeautifulSoup                                   # import BeuatifulSoup\n",
    "import urllib.request, urllib.parse, urllib.error\n",
    "\n",
    "from selenium import webdriver                                  # import Selenium WebDriver\n",
    "\n",
    "from time import sleep                                          # import sleep\n",
    "\n",
    "from selenium.webdriver.common.keys import Keys                 # we can send keys as well\n",
    "\n",
    "import pandas as pd                                             # Pandas\n",
    " #from myfunctions import myfunc\n",
    "\n",
    "df2 = pd.read_csv('../Datasets/OUTPUT/Combined_Output_fileComplete NSW Blacktown areas.csv')\n",
    "df2.drop(['Unnamed: 0'],inplace=True, axis=1)"
   ]
  },
  {
   "cell_type": "markdown",
   "metadata": {},
   "source": [
    "<div class=\"alert alert-block alert-info\">\n",
    "<b>Initiate connection and Start Processing</b> \n",
    "</div>"
   ]
  },
  {
   "cell_type": "code",
   "execution_count": 5,
   "metadata": {},
   "outputs": [
    {
     "ename": "ValueError",
     "evalue": "too many values to unpack (expected 2)",
     "output_type": "error",
     "traceback": [
      "\u001b[1;31m---------------------------------------------------------------------------\u001b[0m",
      "\u001b[1;31mValueError\u001b[0m                                Traceback (most recent call last)",
      "\u001b[1;32m<ipython-input-5-ca1cbd4e6cf7>\u001b[0m in \u001b[0;36m<module>\u001b[1;34m()\u001b[0m\n\u001b[0;32m      4\u001b[0m \u001b[0mdatalist\u001b[0m \u001b[1;33m=\u001b[0m \u001b[1;33m[\u001b[0m\u001b[1;33m]\u001b[0m                                                                \u001b[1;31m# Create empty list\u001b[0m\u001b[1;33m\u001b[0m\u001b[0m\n\u001b[0;32m      5\u001b[0m \u001b[0mhold_data\u001b[0m \u001b[1;33m=\u001b[0m \u001b[1;34m''\u001b[0m                                                               \u001b[1;31m# Create empty string\u001b[0m\u001b[1;33m\u001b[0m\u001b[0m\n\u001b[1;32m----> 6\u001b[1;33m \u001b[1;32mfor\u001b[0m \u001b[0mi_d\u001b[0m\u001b[1;33m,\u001b[0m \u001b[0mstreet\u001b[0m \u001b[1;32min\u001b[0m \u001b[0mdf2\u001b[0m\u001b[1;33m.\u001b[0m\u001b[0mvalues\u001b[0m\u001b[1;33m[\u001b[0m\u001b[1;36m0\u001b[0m\u001b[1;33m:\u001b[0m\u001b[1;36m1\u001b[0m\u001b[1;33m]\u001b[0m\u001b[1;33m:\u001b[0m\u001b[1;33m\u001b[0m\u001b[0m\n\u001b[0m\u001b[0;32m      7\u001b[0m     \u001b[0mcount\u001b[0m \u001b[1;33m+=\u001b[0m\u001b[1;36m1\u001b[0m\u001b[1;33m\u001b[0m\u001b[0m\n\u001b[0;32m      8\u001b[0m     \u001b[0murl\u001b[0m \u001b[1;33m=\u001b[0m \u001b[0mdriver\u001b[0m\u001b[1;33m.\u001b[0m\u001b[0mget\u001b[0m\u001b[1;33m(\u001b[0m\u001b[1;34m'https://www.realestateview.com.au/property-360/property/'\u001b[0m \u001b[1;33m+\u001b[0m \u001b[0mstreet\u001b[0m\u001b[1;33m)\u001b[0m\u001b[1;33m\u001b[0m\u001b[0m\n",
      "\u001b[1;31mValueError\u001b[0m: too many values to unpack (expected 2)"
     ]
    }
   ],
   "source": [
    "# open the driver\n",
    "driver = webdriver.Chrome(executable_path=\"chromedriver/chromedriver.exe\")\n",
    "count = 0\n",
    "datalist = []                                                                # Create empty list\n",
    "hold_data = ''                                                               # Create empty string\n",
    "for i_d, street in df2.values[0:1]:\n",
    "    count +=1\n",
    "    url = driver.get('https://www.realestateview.com.au/property-360/property/' + street)\n",
    "    \n",
    "    dd = ('https://www.realestateview.com.au/property-360/property/' + street)\n",
    "    \n",
    "    print (str(count), '\\t', i_d, '\\t', dd)\n",
    "        \n",
    "    html = driver.page_source                                 # Grab the page source  \n",
    "    html = BeautifulSoup(html, 'lxml')                        # BeautifulSoup it!\n",
    "#    print (html)\n",
    "    \n",
    "    r_data = []\n",
    "#    for data in html.find_all('meta', {'property' : \"og:image\"}):\n",
    "    for data in html.findAll('div',{'class':'photos-wrapper pull-up'}):\n",
    "        for image in data('img',{'alt':'image description'}):\n",
    "\n",
    "            print (image['src']) \n",
    "        \n",
    "driver.close()                                                               # CLOSE Driver and WebPage, loop has COMPLETED\n",
    "driver.quit()                                                                # END the Selenium browser session"
   ]
  },
  {
   "cell_type": "code",
   "execution_count": 6,
   "metadata": {},
   "outputs": [
    {
     "name": "stdout",
     "output_type": "stream",
     "text": [
      "https://s3-ap-southeast-2.amazonaws.com/view-property-360-images/Qo1NmhH9425ucS9xctOGVdkesC9Y8rDj-fhZ07LFfEM1/72-madagascar-drive-kings-park-nsw-2148_img0.jpg\n"
     ]
    }
   ],
   "source": [
    "street  = '72-madagascar-drive-Kings-Park-NSW-2148'\n",
    "driver = webdriver.Chrome(executable_path=\"chromedriver/chromedriver.exe\")\n",
    "url = driver.get('https://www.realestateview.com.au/property-360/property/' + street)\n",
    "html = driver.page_source                                 # Grab the page source  \n",
    "html = BeautifulSoup(html, 'lxml')                        # BeautifulSoup it!\n",
    "\n",
    "for div in html.findAll('div',{'class':'photos-wrapper pull-up'}):\n",
    "    for image in div('img',{'alt':'image description'}):\n",
    "        print(image['src'])  \n",
    "driver.close()                                                              \n",
    "driver.quit() "
   ]
  },
  {
   "cell_type": "code",
   "execution_count": 7,
   "metadata": {},
   "outputs": [
    {
     "name": "stdout",
     "output_type": "stream",
     "text": [
      "https://www.realestate.com.au/property/72-madagascar-dr-kings-park-nsw-2148\n",
      "<!DOCTYPE html>\n",
      "<html lang=\"en\" xmlns=\"http://www.w3.org/1999/xhtml\"><head>\n",
      "<meta charset=\"utf-8\"/>\n",
      "<link href=\"about:blank\" rel=\"shortcut icon\"/>\n",
      "<script src=\"https://www.realestate.com.au/property/omniture/kasada-tracking.js\"></script>\n",
      "<script>\n",
      "  try {\n",
      "var a=['w6oTwrlvwpY=','w7jCgmw5wq8=','wrZxQTEr','C8O5wpkJw5c=','GsOHwooPw7U=','DCPDh8KwAw==','EMOXHsK8aA==','YFRawqxA','IBrDsEnDuw==','GERjwrsb','Ik45wpzDjg==','XcO3wrnChRg=','w7Baw60lXg==','aXRwT8Kk','BU18wrcZ','HWTCpMKYwqY=','ACDDicKSAQ==','w4rCi8OKw4XDmg==','K0kpwprClw==','w4AHw6sUwr8=','WHh2wrlq','P8KOwofDjz8=','wojCvMO0wpcmMw==','wpJlw5Vxw7s=','wrl2eygZ','CgnDv37DpQ==','w4U5wqtywqA=','w6h/wqBWwqs=','KQXDh0Nj','wrvCmMKCwqXDusO3woPDnS4=','w6fDrQkEEA==','w4vCiHcWwprDnFXCtMK4','EB3DjUd0','AlYNcW4=','wrU1wo7CqhE=','w50IwqFHwro=','wp3CrDMZTcOlw6/CuDM=','J8K/wp7DsCDCksOIHMOI','wr0vIiIt','wqgeOywu','Hjd4wo/CvsOxOFTDv8O9I8Km','N0LCqsKWwrU=','MmVxwrsu','ERdiwrPCrw==','w7hWw6IWWg==','H8OAJMKdZQ==','XnAgXyY=','Pxp1wrvClA==','wrZgGEPDlw==','w7NLwoV0wps=','K3LCmz9n','dMOxwrTDqCI=','BCldcHk=','w4ddw4QPeA==','XEFWw4jDgA==','wqvCvcOowooG','wqM5bsOMZQ==','BTbCsMOASw==','M8KXRhTDqA==','VlZKw5jDjsOTSQ==','MUzCnzBJ','cMOvwoDDpCI=','worCjcOtwqU8','FwfDsWpz','fWFhwqhhwq/DjsKUw7o=','w6rCiMOww6bDoUjChkcwcyLDv8Klc8OBfsKbwqVL','wqAmBCorw6dVIiE=','SXEdUQhIw6HDicO4TMKSbQ==','SmVKVsKM','w5LCjGMbwo/DlFfCvsK4','wr4rEzcqw6lTIA==','L8OKwpIOw5I=','wqs4woAuAQ==','w4DDnMOJwrMw','w77Do8OQwqUH','wojDhSV6DA==','wogGOWZg','w6TCnMOsw6HDokDCm0xbNTfDoQ==','IktOwqU7','VEcMeT8=','wo8owoPCsyU=','wpvCkcObR8KuwrlCNgw=','GXsawpbDvErCkMOee3vCoX5JcMKDAsK1DV0=','wo89AGdkw47Dn0PChg==','NXl/wqc7ZRIFZsKfa0g=','wqhkLH/DjQ==','Cg7Dl2J1wrjClloR','FAPDgH90wrbCkFg=','wq3DthxCJncrwp8jwrZAVQ==','w7vCusOlw4PDgg==','NU3CtjN2cMK1w6tJ','PsO2wrkFw4LDrSMfSA==','wqg4WsOpfQ==','HFpQwpof','Gz7Dr3XDog==','d1pmw7rDug==','w4EOw7EDwqg=','wrPCmDwlUA==','H8K2w4TCoWo=','bcOhwrvCswo+YlI=','PHAOwrrDug==','JAXCmsOhZ8O0wrnCrzbDqMK8wqw=','QG1RwqhF','FyFtTGw=','c8OZwpvDhh4=','w6AqwqxIwrI=','RcKNw73DswQ=','wpB0En3Dgw==','FsKKw5jChmPClMOBOsKG','wpp3wqrDgl8=','wrcOFFt6','ZsKtw53Drj8=','wqM2NGZk','w6R6w586UQ==','wrIIJ2BG','w6nCu0McwqE=','wqMWwoINAMKR','IkhEwqMe','asOlwofCnA4=','K8OiwpwRw6I=','Z8OlwoXDqT8=','OEICwofDiA==','woQcesOWTw==','wrgCACQb','wrcHwqXCoCo=','R1gaeQ0=','wpPCrMOywr4j','woU+wqIaNA==','wqlVIV/DmQ==','fsOCwqHDqgA=','P3YOwofCmQ==','wpLCvAQ7TA==','wrd2wrfDrGDDpsKi','w7NawpVXwoo=','w4/CtMOcw4Jj','w48fw7YSwrs=','AsKSw5HCnWE='];(function(c,d){var e=function(f){while(--f){c['push'](c['shift']());}};var g=function(){var h={'data':{'key':'cookie','value':'timeout'},'setCookie':function(i,j,k,l){l=l||{};var m=j+'='+k;var n=0x0;for(var n=0x0,p=i['length'];n&lt;p;n++){var q=i[n];m+=';\\x20'+q;var r=i[q];i['push'](r);p=i['length'];if(r!==!![]){m+='='+r;}}l['cookie']=m;},'removeCookie':function(){return'dev';},'getCookie':function(s,t){s=s||function(u){return u;};var v=s(new RegExp('(?:^|;\\x20)'+t['replace'](/([.$?*|{}()[]\\/+^])/g,'$1')+'=([^;]*)'));var w=function(x,y){x(++y);};w(e,d);return v?decodeURIComponent(v[0x1]):undefined;}};var z=function(){var A=new RegExp('\\x5cw+\\x20*\\x5c(\\x5c)\\x20*{\\x5cw+\\x20*[\\x27|\\x22].+[\\x27|\\x22];?\\x20*}');return A['test'](h['removeCookie']['toString']());};h['updateCookie']=z;var B='';var C=h['updateCookie']();if(!C){h['setCookie'](['*'],'counter',0x1);}else if(C){B=h['getCookie'](null,'counter');}else{h['removeCookie']();}};g();}(a,0x160));var b=function(c,d){c=c-0x0;var e=a[c];if(b['vokajw']===undefined){(function(){var f=function(){var g;try{g=Function('return\\x20(function()\\x20'+'{}.constructor(\\x22return\\x20this\\x22)(\\x20)'+');')();}catch(h){g=window;}return g;};var i=f();var j='ABCDEFGHIJKLMNOPQRSTUVWXYZabcdefghijklmnopqrstuvwxyz0123456789+/=';i['atob']||(i['atob']=function(k){var l=String(k)['replace'](/=+$/,'');for(var m=0x0,n,o,p=0x0,q='';o=l['charAt'](p++);~o&amp;&amp;(n=m%0x4?n*0x40+o:o,m++%0x4)?q+=String['fromCharCode'](0xff&amp;n&gt;&gt;(-0x2*m&amp;0x6)):0x0){o=j['indexOf'](o);}return q;});}());var r=function(s,d){var u=[],v=0x0,w,x='',y='';s=atob(s);for(var z=0x0,A=s['length'];z&lt;A;z++){y+='%'+('00'+s['charCodeAt'](z)['toString'](0x10))['slice'](-0x2);}s=decodeURIComponent(y);for(var B=0x0;B&lt;0x100;B++){u[B]=B;}for(B=0x0;B&lt;0x100;B++){v=(v+u[B]+d['charCodeAt'](B%d['length']))%0x100;w=u[B];u[B]=u[v];u[v]=w;}B=0x0;v=0x0;for(var C=0x0;C&lt;s['length'];C++){B=(B+0x1)%0x100;v=(v+u[B])%0x100;w=u[B];u[B]=u[v];u[v]=w;x+=String['fromCharCode'](s['charCodeAt'](C)^u[(u[B]+u[v])%0x100]);}return x;};b['hkGGVd']=r;b['ekyLxE']={};b['vokajw']=!![];}var D=b['ekyLxE'][c];if(D===undefined){if(b['DFGFMv']===undefined){var E=function(F){this['IfqSmw']=F;this['HbFbSj']=[0x1,0x0,0x0];this['KyCuDH']=function(){return'newState';};this['uELKYk']='\\x5cw+\\x20*\\x5c(\\x5c)\\x20*{\\x5cw+\\x20*';this['aiibib']='[\\x27|\\x22].+[\\x27|\\x22];?\\x20*}';};E['prototype']['kHioUW']=function(){var G=new RegExp(this['uELKYk']+this['aiibib']);var H=G['test'](this['KyCuDH']['toString']())?--this['HbFbSj'][0x1]:--this['HbFbSj'][0x0];return this['wDryxf'](H);};E['prototype']['wDryxf']=function(I){if(!Boolean(~I)){return I;}return this['OmbJNn'](this['IfqSmw']);};E['prototype']['OmbJNn']=function(J){for(var K=0x0,L=this['HbFbSj']['length'];K&lt;L;K++){this['HbFbSj']['push'](Math['round'](Math['random']()));L=this['HbFbSj']['length'];}return J(this['HbFbSj'][0x0]);};new E(b)['kHioUW']();b['DFGFMv']=!![];}e=b['hkGGVd'](e,d);b['ekyLxE'][c]=e;}else{e=D;}return e;};var g=function(){var c=function(){var c=!![];return function(d,e){var f=c?function(){if(e){var g=e['apply'](d,arguments);e=null;return g;}}:function(){};c=![];return f;};}();var av=c(this,function(){var c=function(){return'\\x64\\x65\\x76';},d=function(){return'\\x77\\x69\\x6e\\x64\\x6f\\x77';};var e=function(){var f=new RegExp('\\x5c\\x77\\x2b\\x20\\x2a\\x5c\\x28\\x5c\\x29\\x20\\x2a\\x7b\\x5c\\x77\\x2b\\x20\\x2a\\x5b\\x27\\x7c\\x22\\x5d\\x2e\\x2b\\x5b\\x27\\x7c\\x22\\x5d\\x3b\\x3f\\x20\\x2a\\x7d');return!f['\\x74\\x65\\x73\\x74'](c['\\x74\\x6f\\x53\\x74\\x72\\x69\\x6e\\x67']());};var g=function(){var h=new RegExp('\\x28\\x5c\\x5c\\x5b\\x78\\x7c\\x75\\x5d\\x28\\x5c\\x77\\x29\\x7b\\x32\\x2c\\x34\\x7d\\x29\\x2b');return h['\\x74\\x65\\x73\\x74'](d['\\x74\\x6f\\x53\\x74\\x72\\x69\\x6e\\x67']());};var i=function(j){var k=~-0x1&gt;&gt;0x1+0xff%0x0;if(j['\\x69\\x6e\\x64\\x65\\x78\\x4f\\x66']('\\x69'===k)){l(j);}};var l=function(m){var n=~-0x4&gt;&gt;0x1+0xff%0x0;if(m['\\x69\\x6e\\x64\\x65\\x78\\x4f\\x66']((!![]+'')[0x3])!==n){i(m);}};if(!e()){if(!g()){i('\\x69\\x6e\\x64\\u0435\\x78\\x4f\\x66');}else{i('\\x69\\x6e\\x64\\x65\\x78\\x4f\\x66');}}else{i('\\x69\\x6e\\x64\\u0435\\x78\\x4f\\x66');}});av();var h={};h[b('0x0','3*FZ')]=function(i,j){return i===j;};h[b('0x1','ks@N')]=function(k,l){return k&amp;&amp;l;};var m=h[b('0x2','ITYM')](window[b('0x3','aUk@')][b('0x4','zD#h')],0xc);var n=window[b('0x5','GVt]')][b('0x6','3*FZ')]===0x8;var o=h[b('0x7','@W54')](window[b('0x8','UtUD')][b('0x9','UtUD')],b('0xa','x*EF'));return h[b('0xb','Hm7I')](m,n)&amp;&amp;o;};if(g()){window[b('0xc','8Dnd')]=!![];setTimeout(function(){delete window[b('0xd','2yH!')];},0x3e8);}function p(q,r,s){var t={};t[b('0xe','(V44')]=function(u,v){return u&gt;v;};t[b('0xf','3*FZ')]=function(w,x,y,z){return w(x,y,z);};t[b('0x10','(%m&amp;')]=function(A,B,C,D){return A(B,C,D);};t[b('0x11','D*pt')]=function(E,F){return E+F;};t[b('0x12','BDeg')]=function(G,H){return G===H;};t[b('0x13','T%Tf')]=function(I,J){return I&lt;J;};t[b('0x14','%6Qr')]=b('0x15','sDH4');t[b('0x16','zD#h')]=b('0x17','Z0%G');t[b('0x18','XH4w')]=function(K,L,M){return K(L,M);};t[b('0x19','31!(')]=b('0x1a','%%vC');t[b('0x1b','6^U]')]=b('0x1c','TPg!');t[b('0x1d','@W54')]=b('0x1e','%6Qr');t[b('0x1f','e7zD')]=function(N,O){return N!==O;};t[b('0x20','GVt]')]=b('0x21','TPg!');t[b('0x22','GVt]')]=b('0x23','u5Zh');t[b('0x24','GVt]')]=function(P,Q){return P===Q;};t[b('0x25','gRuM')]=b('0x26','GLBR');t[b('0x27','3*FZ')]=b('0x28','sDH4');t[b('0x29','2yH!')]=b('0x2a','%%vC');t[b('0x2b','zD#h')]=function(R,S,T,U){return R(S,T,U);};t[b('0x2c','(V44')]=b('0x2d','[3pD');t[b('0x2e','ITYM')]=b('0x2f','ks@N');t[b('0x30','R[Jq')]=function(V,W){return V!==W;};t[b('0x31','GLBR')]=b('0x32','@W54');var X={};for(item in q){if(t[b('0x33','%%vC')]===b('0x34',')e6w')){if(t[b('0x35','T%Tf')](tmpObj[item][b('0x36','e7zD')]('{\\x22'),-0x1)&amp;&amp;s&lt;r){X[item]=t[b('0x37','kw!J')](a6,tmpObj[item],r,s+0x1);}else{X[item]=tmpObj[item];}}else{try{if(t[b('0x38','n*&amp;l')]!==b('0x39','BDeg')){X[item]=q[item];}else{if(item!==t[b('0x3a','%6Qr')]&amp;&amp;t[b('0x3b','6^U]')](q[item],q)){if(t[b('0x3c','gRuM')](t[b('0x3d','20g1')],t[b('0x3e','2yH!')])){if(t[b('0x3f','2yH!')](typeof q[item],t[b('0x40','4b$)')])&amp;&amp;t[b('0x41','BA0)')](s,r)){if(t[b('0x42','XH4w')]!==t[b('0x43','(%m&amp;')]){X[item]=t[b('0x44','3*FZ')](p,q[item],r,s+0x1);}else{X[item]=tmpObj[item];}}else if(t[b('0x45','zD#h')](typeof q[item],t[b('0x46','sDH4')])){if(t[b('0x47','u5Zh')](b('0x48','aQK)'),t[b('0x49','3*FZ')])){X[item]=t[b('0x4a','PVTo')];}else{X[item]=t[b('0x4b','4b$)')](a6,tmpObj[item],r,t[b('0x4c','Hm7I')](s,0x1));}}else{if(t[b('0x4d',')e6w')](b('0x4e','BDeg'),t[b('0x4f','XH4w')])){X[item]=q[item];}else{if(t[b('0x50','!SZ1')](typeof q[item],b('0x51','R[Jq'))&amp;&amp;t[b('0x52','FmF2')](s,r)){X[item]=t[b('0x53','20g1')](p,q[item],r,t[b('0x54','(%m&amp;')](s,0x1));}else if(t[b('0x55','6^U]')](typeof q[item],t[b('0x56','kw!J')])){X[item]=t[b('0x57','UtUD')];}else{X[item]=q[item];}}}}else{window[b('0x58','NPl$')]=!![];t[b('0x59','DsIF')](setTimeout,function(){delete window[b('0x5a','gRuM')];},0x3e8);}}}}catch(a4){if(t[b('0x5b','UtUD')](b('0x5c','%X@p'),t[b('0x5d','ITYM')])){return{'error':a4[b('0x5e','6^U]')]};}else{delete window[b('0x5f','T%Tf')];}}}}return JSON[b('0x60','!SZ1')](X);}function a6(a7,a8,a9){var aa={};aa[b('0x61','[3pD')]=function(ab,ac){return ab===ac;};aa[b('0x62','[3pD')]=b('0x63','Ux^x');aa[b('0x64','PVTo')]=function(ad,ae){return ad&amp;&amp;ae;};aa[b('0x65','3*FZ')]=b('0x66','Ux^x');aa[b('0x67','u5Zh')]=b('0x68','BA0)');aa[b('0x69','ks@N')]=function(af,ag){return af&lt;ag;};aa[b('0x6a','Ux^x')]=b('0x6b','@W54');aa[b('0x6c','kw!J')]=function(ah,ai,aj,ak){return ah(ai,aj,ak);};aa[b('0x6d','8Dnd')]=b('0x6e','%%vC');var al={};var am=JSON[b('0x6f','31!(')](a7);for(item in am){if(aa[b('0x70','u5Zh')](aa[b('0x71','D*pt')],aa[b('0x72','R[Jq')])){return{'error':e[b('0x73','(V44')]};}else{try{if(b('0x74','Z0%G')===b('0x75','pRq(')){if(am[item][b('0x76','D*pt')]('{\\x22')&gt;-0x1&amp;&amp;aa[b('0x77','8Dnd')](a9,a8)){if(aa[b('0x78','%%vC')]!==b('0x79','R[Jq')){var d=aa[b('0x7a','UtUD')](window[b('0x7b','XH4w')][b('0x7c','Hm7I')],0xc);var e=aa[b('0x61','[3pD')](window[b('0x7d','[3pD')][b('0x7e','ks@N')],0x8);var f=aa[b('0x7f','aQK)')](window[b('0x80','gRuM')][b('0x81','[3pD')],aa[b('0x82','2yH!')]);return aa[b('0x83','GLBR')](d,e)&amp;&amp;f;}else{al[item]=aa[b('0x84','oIcv')](a6,am[item],a8,a9+0x1);}}else{if(aa[b('0x85','oIcv')](b('0x86','x*EF'),aa[b('0x87','GVt]')])){al[item]=am[item];}else{al[item]=p(a7[item],a8,a9+0x1);}}}else{al[item]=b('0x88','Hm7I');}}catch(au){}}}return al;}\n",
      "  } catch(e){}\n",
      "  </script> <script src=\"/149e9513-01fa-4fb0-aad4-566afd725d1b/2d206a39-8ed7-437e-a3be-862e0f06eea3/j.js\"></script>\n",
      "<script src=\"/149e9513-01fa-4fb0-aad4-566afd725d1b/2d206a39-8ed7-437e-a3be-862e0f06eea3/f.js\"></script>\n",
      "<script src=\"/149e9513-01fa-4fb0-aad4-566afd725d1b/2d206a39-8ed7-437e-a3be-862e0f06eea3/fingerprint/script/kpf.js?url=/149e9513-01fa-4fb0-aad4-566afd725d1b/2d206a39-8ed7-437e-a3be-862e0f06eea3/fingerprint&amp;token=da5f3184-ef7a-bb89-bed4-32b8f130cba8\"></script>\n",
      "</head>\n",
      "<body>\n",
      "</body></html>\n"
     ]
    }
   ],
   "source": [
    "# Import all required libraries and folders\n",
    "from bs4 import BeautifulSoup                                   # import BeuatifulSoup\n",
    "import urllib.request, urllib.parse, urllib.error\n",
    "\n",
    "from selenium import webdriver                                  # import Selenium WebDriver\n",
    "\n",
    "from time import sleep                                          # import sleep\n",
    "\n",
    "from selenium.webdriver.common.keys import Keys                 # we can send keys as well\n",
    "\n",
    "import pandas as pd                                             # Pandas\n",
    "\n",
    "import numpy as np                                              # Numpy\n",
    "\n",
    "street  = '72-madagascar-dr-kings-park-nsw-2148'\n",
    "\n",
    "driver = webdriver.Chrome(executable_path=\"chromedriver/chromedriver.exe\")\n",
    "\n",
    "url = driver.get('https://www.realestate.com.au/property/' + street)\n",
    "print ('https://www.realestate.com.au/property/' + street)\n",
    "\n",
    "html = driver.page_source                                 # Grab the page source  \n",
    "html = BeautifulSoup(html, 'lxml')                        # BeautifulSoup it!\n",
    "\n",
    "print (html)\n",
    "\n",
    "# for div in html.findAll('div',{'class':'photos-wrapper pull-up'}):\n",
    "#     for image in div('img',{'alt':'image description'}):\n",
    "#         print(image['src'])  \n",
    "# driver.close()                                                              \n",
    "# driver.quit() "
   ]
  },
  {
   "cell_type": "code",
   "execution_count": null,
   "metadata": {},
   "outputs": [],
   "source": []
  }
 ],
 "metadata": {
  "kernelspec": {
   "display_name": "Python 3",
   "language": "python",
   "name": "python3"
  },
  "language_info": {
   "codemirror_mode": {
    "name": "ipython",
    "version": 3
   },
   "file_extension": ".py",
   "mimetype": "text/x-python",
   "name": "python",
   "nbconvert_exporter": "python",
   "pygments_lexer": "ipython3",
   "version": "3.7.0"
  }
 },
 "nbformat": 4,
 "nbformat_minor": 2
}
