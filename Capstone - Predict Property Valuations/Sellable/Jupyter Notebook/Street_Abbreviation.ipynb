{
 "cells": [
  {
   "cell_type": "markdown",
   "metadata": {},
   "source": [
    "## Street Suffix Abbreviation"
   ]
  },
  {
   "cell_type": "code",
   "execution_count": 1,
   "metadata": {},
   "outputs": [],
   "source": [
    "# P A N D A S and N U M P Y\n",
    "import numpy as np\n",
    "import pandas as pd"
   ]
  },
  {
   "cell_type": "markdown",
   "metadata": {},
   "source": [
    "<div class=\"alert alert-block alert-info\">\n",
    "<b>Using Pandas DataFrames</b> \n",
    "<br>&nbsp;&nbsp;&nbsp;&nbsp;&nbsp;&nbsp; 1.&nbsp;&nbsp;&nbsp;Use the .read_csv() function to read the csv file\n",
    "</div>"
   ]
  },
  {
   "cell_type": "code",
   "execution_count": 2,
   "metadata": {
    "scrolled": true
   },
   "outputs": [
    {
     "data": {
      "text/html": [
       "<div>\n",
       "<style scoped>\n",
       "    .dataframe tbody tr th:only-of-type {\n",
       "        vertical-align: middle;\n",
       "    }\n",
       "\n",
       "    .dataframe tbody tr th {\n",
       "        vertical-align: top;\n",
       "    }\n",
       "\n",
       "    .dataframe thead th {\n",
       "        text-align: right;\n",
       "    }\n",
       "</style>\n",
       "<table border=\"1\" class=\"dataframe\">\n",
       "  <thead>\n",
       "    <tr style=\"text-align: right;\">\n",
       "      <th></th>\n",
       "      <th>id</th>\n",
       "      <th>gnaf_address_id</th>\n",
       "      <th>street</th>\n",
       "      <th>suburb</th>\n",
       "      <th>postcode</th>\n",
       "      <th>state_code</th>\n",
       "      <th>latitude</th>\n",
       "      <th>longitude</th>\n",
       "      <th>type</th>\n",
       "      <th>land_sqm</th>\n",
       "      <th>floorplan</th>\n",
       "    </tr>\n",
       "  </thead>\n",
       "  <tbody>\n",
       "    <tr>\n",
       "      <th>0</th>\n",
       "      <td>28722</td>\n",
       "      <td>8503832</td>\n",
       "      <td>72 Madagascar Drive</td>\n",
       "      <td>Kings Park</td>\n",
       "      <td>2148</td>\n",
       "      <td>NSW</td>\n",
       "      <td>-33.738937</td>\n",
       "      <td>150.902040</td>\n",
       "      <td>house</td>\n",
       "      <td>561.0</td>\n",
       "      <td>True</td>\n",
       "    </tr>\n",
       "    <tr>\n",
       "      <th>1</th>\n",
       "      <td>28723</td>\n",
       "      <td>8482135</td>\n",
       "      <td>1 Kauai Place</td>\n",
       "      <td>Kings Park</td>\n",
       "      <td>2148</td>\n",
       "      <td>NSW</td>\n",
       "      <td>-33.742233</td>\n",
       "      <td>150.911124</td>\n",
       "      <td>house</td>\n",
       "      <td>559.0</td>\n",
       "      <td>True</td>\n",
       "    </tr>\n",
       "    <tr>\n",
       "      <th>2</th>\n",
       "      <td>28724</td>\n",
       "      <td>7866709</td>\n",
       "      <td>2/53 Cobham Street</td>\n",
       "      <td>Kings Park</td>\n",
       "      <td>2148</td>\n",
       "      <td>NSW</td>\n",
       "      <td>-33.741886</td>\n",
       "      <td>150.902220</td>\n",
       "      <td>unit</td>\n",
       "      <td>NaN</td>\n",
       "      <td>True</td>\n",
       "    </tr>\n",
       "    <tr>\n",
       "      <th>3</th>\n",
       "      <td>28725</td>\n",
       "      <td>10510214</td>\n",
       "      <td>181 Madagascar Drive</td>\n",
       "      <td>Kings Park</td>\n",
       "      <td>2148</td>\n",
       "      <td>NSW</td>\n",
       "      <td>-33.738475</td>\n",
       "      <td>150.911142</td>\n",
       "      <td>house</td>\n",
       "      <td>NaN</td>\n",
       "      <td>True</td>\n",
       "    </tr>\n",
       "    <tr>\n",
       "      <th>4</th>\n",
       "      <td>28726</td>\n",
       "      <td>11825056</td>\n",
       "      <td>91 Faulkland Crescent</td>\n",
       "      <td>Kings Park</td>\n",
       "      <td>2148</td>\n",
       "      <td>NSW</td>\n",
       "      <td>-33.741895</td>\n",
       "      <td>150.904517</td>\n",
       "      <td>house</td>\n",
       "      <td>559.0</td>\n",
       "      <td>True</td>\n",
       "    </tr>\n",
       "  </tbody>\n",
       "</table>\n",
       "</div>"
      ],
      "text/plain": [
       "      id  gnaf_address_id                 street      suburb  postcode  \\\n",
       "0  28722          8503832    72 Madagascar Drive  Kings Park      2148   \n",
       "1  28723          8482135          1 Kauai Place  Kings Park      2148   \n",
       "2  28724          7866709     2/53 Cobham Street  Kings Park      2148   \n",
       "3  28725         10510214   181 Madagascar Drive  Kings Park      2148   \n",
       "4  28726         11825056  91 Faulkland Crescent  Kings Park      2148   \n",
       "\n",
       "  state_code   latitude   longitude   type  land_sqm  floorplan  \n",
       "0        NSW -33.738937  150.902040  house     561.0       True  \n",
       "1        NSW -33.742233  150.911124  house     559.0       True  \n",
       "2        NSW -33.741886  150.902220   unit       NaN       True  \n",
       "3        NSW -33.738475  150.911142  house       NaN       True  \n",
       "4        NSW -33.741895  150.904517  house     559.0       True  "
      ]
     },
     "execution_count": 2,
     "metadata": {},
     "output_type": "execute_result"
    }
   ],
   "source": [
    "# Load the data\n",
    "df1 = pd.read_csv('../Datasets/INPUT/Sample Data (Modified).csv')\n",
    "df1.head()"
   ]
  },
  {
   "cell_type": "markdown",
   "metadata": {},
   "source": [
    "<div class=\"alert alert-block alert-info\">\n",
    "<b>Using Pandas DataFrames</b> - Use the .read_csv() function to read the <b>StreetType-Abbrev.csv file\n",
    "</div>"
   ]
  },
  {
   "cell_type": "code",
   "execution_count": 4,
   "metadata": {
    "scrolled": false
   },
   "outputs": [
    {
     "data": {
      "text/html": [
       "<div>\n",
       "<style scoped>\n",
       "    .dataframe tbody tr th:only-of-type {\n",
       "        vertical-align: middle;\n",
       "    }\n",
       "\n",
       "    .dataframe tbody tr th {\n",
       "        vertical-align: top;\n",
       "    }\n",
       "\n",
       "    .dataframe thead th {\n",
       "        text-align: right;\n",
       "    }\n",
       "</style>\n",
       "<table border=\"1\" class=\"dataframe\">\n",
       "  <thead>\n",
       "    <tr style=\"text-align: right;\">\n",
       "      <th></th>\n",
       "      <th>Street Suffix\n",
       "Name</th>\n",
       "      <th>Commonly\n",
       "Used Street\n",
       "Suffix or\n",
       "Abbreviation</th>\n",
       "      <th>Postal Service\n",
       "Standard Suffix\n",
       "Abbreviation</th>\n",
       "    </tr>\n",
       "  </thead>\n",
       "  <tbody>\n",
       "    <tr>\n",
       "      <th>0</th>\n",
       "      <td>ALLEY</td>\n",
       "      <td>ALLEE</td>\n",
       "      <td>ALY</td>\n",
       "    </tr>\n",
       "    <tr>\n",
       "      <th>1</th>\n",
       "      <td>NaN</td>\n",
       "      <td>ALLEY</td>\n",
       "      <td>NaN</td>\n",
       "    </tr>\n",
       "    <tr>\n",
       "      <th>2</th>\n",
       "      <td>NaN</td>\n",
       "      <td>ALLY</td>\n",
       "      <td>NaN</td>\n",
       "    </tr>\n",
       "    <tr>\n",
       "      <th>3</th>\n",
       "      <td>NaN</td>\n",
       "      <td>ALY</td>\n",
       "      <td>NaN</td>\n",
       "    </tr>\n",
       "    <tr>\n",
       "      <th>4</th>\n",
       "      <td>ANEX</td>\n",
       "      <td>ANEX</td>\n",
       "      <td>ANX</td>\n",
       "    </tr>\n",
       "  </tbody>\n",
       "</table>\n",
       "</div>"
      ],
      "text/plain": [
       "  Street Suffix\\nName Commonly\\nUsed Street\\nSuffix or\\nAbbreviation  \\\n",
       "0               ALLEY                                          ALLEE   \n",
       "1                 NaN                                          ALLEY   \n",
       "2                 NaN                                           ALLY   \n",
       "3                 NaN                                            ALY   \n",
       "4                ANEX                                           ANEX   \n",
       "\n",
       "  Postal Service\\nStandard Suffix\\nAbbreviation  \n",
       "0                                           ALY  \n",
       "1                                           NaN  \n",
       "2                                           NaN  \n",
       "3                                           NaN  \n",
       "4                                           ANX  "
      ]
     },
     "execution_count": 4,
     "metadata": {},
     "output_type": "execute_result"
    }
   ],
   "source": [
    "# Load the data\n",
    "df2 = pd.read_csv('../Datasets/INPUT/StreetType-Abbrev.csv')\n",
    "df2.head()"
   ]
  },
  {
   "cell_type": "markdown",
   "metadata": {},
   "source": [
    "<div class=\"alert alert-block alert-info\">\n",
    "<b>Create a Street Suffix Abbreviation Dictionary</b> \n",
    "</div>"
   ]
  },
  {
   "cell_type": "code",
   "execution_count": 5,
   "metadata": {},
   "outputs": [],
   "source": [
    "extra_suffix_list = ['BOULEVARDE', 'BOULEVARD', 'BVD', 'BOULEVARD', 'CRESCENT', 'CRESCENT', 'CIRCUIT', 'CIRCUIT',     \n",
    "                     'CCT', 'CIRCUIT', 'PLACE', 'PLACE', 'CLOSE', 'CLOSE', 'CL', 'CLOSE', 'CR', 'CORNER', \n",
    "                     'PARADE', 'PARADE', 'PDE', 'PARADE', 'GLADE', 'GLADE', 'AVENUE,', 'AVENUE', 'AVENUE.', 'AVENUE', \n",
    "                     'AVENUE.', 'AVENUE', 'AVE', 'AVENUE', 'AVE.', 'AVENUE', 'STREET.', 'STREET', 'ST.,', 'STREET',  \n",
    "                     'PDE', 'PARADE', 'TCE', 'TERRACE', 'PL.', 'PLACE'] "
   ]
  },
  {
   "cell_type": "code",
   "execution_count": 6,
   "metadata": {
    "scrolled": false
   },
   "outputs": [],
   "source": [
    "# Change Column Names to more undesrtanding\n",
    "df2.columns = ['Street_Suffix', 'Possible_Abbreviations', 'Abbreviation']\n",
    "\n",
    "hold_list = []\n",
    "first_time = 'Y'\n",
    "hold_suffix_name = ''\n",
    "index = 0\n",
    "for i in df2.Street_Suffix: \n",
    "    if first_time == 'Y':\n",
    "        first_time = 'N'\n",
    "        hold_suffix = i\n",
    "    try:\n",
    "        if i.isalpha():\n",
    "            hold_suffix = i\n",
    "    except:\n",
    "        if AttributeError:\n",
    "            x = i\n",
    "    hold_list.append(df2.Possible_Abbreviations[index])\n",
    "    hold_list.append(hold_suffix)\n",
    "    index +=1\n",
    "new_suffix_list = hold_list + extra_suffix_list\n",
    "dic_list = dict(zip(*[iter(new_suffix_list)]*2)) \n",
    "\n",
    "dic_list;"
   ]
  },
  {
   "cell_type": "code",
   "execution_count": 7,
   "metadata": {},
   "outputs": [
    {
     "name": "stdout",
     "output_type": "stream",
     "text": [
      "ROAD\n"
     ]
    }
   ],
   "source": [
    "print (dic_list['RD'])"
   ]
  },
  {
   "cell_type": "code",
   "execution_count": null,
   "metadata": {},
   "outputs": [],
   "source": []
  }
 ],
 "metadata": {
  "kernelspec": {
   "display_name": "Python 3",
   "language": "python",
   "name": "python3"
  },
  "language_info": {
   "codemirror_mode": {
    "name": "ipython",
    "version": 3
   },
   "file_extension": ".py",
   "mimetype": "text/x-python",
   "name": "python",
   "nbconvert_exporter": "python",
   "pygments_lexer": "ipython3",
   "version": "3.7.0"
  }
 },
 "nbformat": 4,
 "nbformat_minor": 2
}
